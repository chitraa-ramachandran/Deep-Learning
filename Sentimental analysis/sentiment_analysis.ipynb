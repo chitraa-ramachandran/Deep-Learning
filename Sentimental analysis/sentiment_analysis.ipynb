{
 "cells": [
  {
   "cell_type": "code",
   "execution_count": 67,
   "metadata": {},
   "outputs": [],
   "source": [
    "#importing all necessary libraries\n",
    "import numpy as np\n",
    "import tensorflow as tf\n",
    "import keras as k\n",
    "import matplotlib.pyplot as plt\n",
    "import pandas as pd\n",
    "from keras.models import Sequential\n",
    "from keras.layers import Conv2D, MaxPooling2D, Flatten , Dense, Activation,Dropout,InputLayer,BatchNormalization,Embedding\n",
    "import pickle\n",
    "from sklearn.model_selection import train_test_split\n",
    "from sklearn.feature_extraction.text import CountVectorizer\n",
    "import os\n",
    "from keras.preprocessing.text import Tokenizer\n",
    "from keras.preprocessing.sequence import pad_sequences\n",
    "from tensorflow.python.keras import models\n",
    "from tensorflow.python.keras.preprocessing import text\n",
    "from tensorflow.keras import layers, models\n",
    "from keras.preprocessing import sequence\n",
    "import re"
   ]
  },
  {
   "cell_type": "code",
   "execution_count": 68,
   "metadata": {},
   "outputs": [],
   "source": [
    "#creating the training dataset with positive and negative reviews\n",
    "\"\"\"\n",
    "The Large Movie Review Dataset contains 25000 highly polar reviews for training and 25000 dataset for testing. \n",
    "So, we are attempting to do a binary classification on the reviews by classifying them as positive or negative \n",
    "reviews by using natural language processing.\n",
    "\n",
    "In the downloaded datafile the ‘pos’ and the ‘neg’ files contain the positive and the negative reviews respectively. \n",
    "Considering these two files as input we need to create our data that will have the positive and negative reviews \n",
    "with labels 1 and 0 for good and bad respectively.\n",
    "\"\"\"\n",
    "neg=[]\n",
    "for root,directory,files in os.walk(\"/Users/chitraaramachandran/Downloads/aclImdb/train/neg\",topdown=True):\n",
    "    for file in files:\n",
    "        if file.endswith('.txt'):\n",
    "            with open(os.path.join(root, file), 'r') as f:\n",
    "                data = f.read()\n",
    "                neg.append(data)\n",
    "pos=[]\n",
    "for root, directory, files in os.walk(\"/Users/chitraaramachandran/Downloads/aclImdb/train/pos\",topdown=True):\n",
    "    for file in files:\n",
    "        if file.endswith('.txt'):\n",
    "            with open(os.path.join(root, file), 'r') as f:\n",
    "                data = f.read()\n",
    "                pos.append(data)\n",
    "\n",
    "#creating the test dataset with positive and negative reviews           \n",
    "neg_test=[]\n",
    "for root, directory, files in os.walk(\"/Users/chitraaramachandran/Downloads/aclImdb/test/neg\",topdown=True):\n",
    "    for file in files:\n",
    "        if file.endswith('.txt'):\n",
    "            with open(os.path.join(root, file), 'r') as f:\n",
    "                data = f.read()\n",
    "                neg_test.append(data)                             \n",
    "pos_test=[]\n",
    "for root, directory, files in os.walk(\"/Users/chitraaramachandran/Downloads/aclImdb/test/pos\",topdown=True):\n",
    "    for file in files:\n",
    "        if file.endswith('.txt'):\n",
    "            with open(os.path.join(root, file), 'r') as f:\n",
    "                data = f.read()\n",
    "                pos_test.append(data) "
   ]
  },
  {
   "cell_type": "code",
   "execution_count": 69,
   "metadata": {},
   "outputs": [],
   "source": [
    "#creating the target polarity label with 1 for positive reviews and 0 for negative reviews\n",
    "polarity = [0 if i < 12500 else 1 for i in range(25000)]\n",
    "#creating the train and test set by appending together both the positive and negative reviews\n",
    "for i in range(12500):\n",
    "    neg.append(pos[i])\n",
    "    neg_test.append(pos_test[i])\n",
    "X_train,y_train,X_test,y_test=([] for i in range(4))\n",
    "for i in list(range(25000)):\n",
    "    X_train.append(neg[i])\n",
    "    y_train.append(polarity[i])\n",
    "    X_test.append(neg_test[i])\n",
    "    y_test.append(polarity[i])"
   ]
  },
  {
   "cell_type": "code",
   "execution_count": 70,
   "metadata": {},
   "outputs": [],
   "source": [
    "tab=pd.DataFrame({\"review\":X_train,\"polarity\":y_train})"
   ]
  },
  {
   "cell_type": "markdown",
   "metadata": {},
   "source": [
    "To proceed further we need to do some analysis to get an idea of the average review length,\n",
    "For this purpose i will be plotting a graph to show the review lengths"
   ]
  },
  {
   "cell_type": "code",
   "execution_count": 71,
   "metadata": {},
   "outputs": [
    {
     "data": {
      "image/png": "[encoded data removed]",
      "text/plain": [
       "<Figure size 720x720 with 1 Axes>"
      ]
     },
     "metadata": {
      "needs_background": "light"
     },
     "output_type": "display_data"
    }
   ],
   "source": [
    "#plotting an histogram for length of the reviews\n",
    "plt.figure(figsize=(10,10))\n",
    "plt.hist([len(review) for review in list(X_train)], 50)\n",
    "plt.xlabel('Length')\n",
    "plt.ylabel('Frequency')\n",
    "plt.title('Distribution Graph')\n",
    "plt.show()"
   ]
  },
  {
   "cell_type": "markdown",
   "metadata": {},
   "source": [
    "\n",
    "From the plot obtained,\n",
    "we can consider the average movie review length to be approximately around 2000 or lessser than that\n"
   ]
  },
  {
   "cell_type": "code",
   "execution_count": 72,
   "metadata": {},
   "outputs": [
    {
     "data": {
      "text/plain": [
       "'\\nWe have assigned the vocabulary as 5000 and max length as 500 to train the model\\n'"
      ]
     },
     "execution_count": 72,
     "metadata": {},
     "output_type": "execute_result"
    }
   ],
   "source": [
    "\"\"\"\n",
    "The reviews contain a lot of unwanted data that do not hold any information to train the model and \n",
    "they need to be removed by doing data preprocessing.The unwanted data observed in the reviews are numbers,\n",
    "punctuations,html tags and other special characters.These can be identified and removed using the regex matches \n",
    "and substitutions.\n",
    "\"\"\"\n",
    "def remove(row):\n",
    "    non_alpha = re.compile('[^a-zA-Z]')\n",
    "    spcl_char = re.compile('[;.!:\\',\\\"()?\\[\\]]')\n",
    "    html = re.compile(r'<.*?>')\n",
    "    row= [html.sub(\" \",i) for i in row]\n",
    "    row = [spcl_char.sub(\" \", i) for i in row]\n",
    "    row = [non_alpha.sub(\" \", i.lower()) for i in row]\n",
    "    return row\n",
    "#removing the unwanted data from the train and test\n",
    "X_train=remove(X_train)\n",
    "X_test=remove(X_train)\n",
    "#process of tokenization \n",
    "\"\"\"\n",
    "Tokenization is the process of splitting a text into a list of tokens thereby creating a word-to-index dictionary \n",
    "where each word is considered as a key and a unique index is created for it. \n",
    "\"\"\"\n",
    "vocabulary = 5000\n",
    "tokenizer = Tokenizer(num_words=vocabulary)\n",
    "#we create the indexes based on word frequency so,we use fit_on_texts funtion from keras tokenizer\n",
    "tokenizer.fit_on_texts(X_train)\n",
    "#transforms each text in texts to a sequence of integer using texts_to_sequence to form a valid input to the neural network\n",
    "X_train=tokenizer.texts_to_sequences(X_train)\n",
    "X_test=tokenizer.texts_to_sequences(X_test)\n",
    "'''\n",
    "X_train and X_test are now a list of values and each list corresponds to the sentence in the train and test set.\n",
    "For purpose of training (To provide a proper input to the neural network) we set a max length to the list in such a way that if the size of the list is greater than \n",
    "the length mentioned then we truncate it and in the other scenario when the size is small we pad the list with 0\n",
    "'''\n",
    "max_length = 500\n",
    "X_train = sequence.pad_sequences(X_train,maxlen=max_length)\n",
    "X_test = sequence.pad_sequences(X_test,maxlen=max_length)\n",
    "'''\n",
    "We have assigned the vocabulary as 5000 and max length as 500 to train the model\n",
    "'''"
   ]
  },
  {
   "cell_type": "markdown",
   "metadata": {},
   "source": [
    "#### Model Training\n",
    "I have considered a sequential model and the vocabulary size to be 5000 and the maximum length of a sentence to be 500.\n",
    "We will be using the embedding layer that takes as input the reviews and forms embedding vectors which helps in dimensionality reduction and reduces the computational complexity and hence speeds up the training process unlike the large dimensionality produced through one hot encoding of target.We use the dropout layer with 0.2 after every embedding layer inorder to reduce the trainable parameters and help the model to train without overfitting.Flatten layer is used to feed the input to the dense layer.\n",
    "For the output we use a dense layer with softmax activation function and one neuron that outputs the polarity of the review.\n",
    "The model is compiled with the adam optimizer and the loss function considered is binary cross entropy as sentimental analysis probelm considered here is a binary classification probelm."
   ]
  },
  {
   "cell_type": "code",
   "execution_count": 73,
   "metadata": {},
   "outputs": [
    {
     "name": "stdout",
     "output_type": "stream",
     "text": [
      "Model: \"sequential\"\n",
      "_________________________________________________________________\n",
      "Layer (type)                 Output Shape              Param #   \n",
      "=================================================================\n",
      "embedding (Embedding)        (None, 500, 64)           320000    \n",
      "_________________________________________________________________\n",
      "dropout (Dropout)            (None, 500, 64)           0         \n",
      "_________________________________________________________________\n",
      "flatten (Flatten)            (None, 32000)             0         \n",
      "_________________________________________________________________\n",
      "dense (Dense)                (None, 1)                 32001     \n",
      "=================================================================\n",
      "Total params: 352,001\n",
      "Trainable params: 352,001\n",
      "Non-trainable params: 0\n",
      "_________________________________________________________________\n",
      "Epoch 1/15\n",
      "313/313 - 3s - loss: 0.5141 - accuracy: 0.7333 - val_loss: 0.3247 - val_accuracy: 0.8612\n",
      "Epoch 2/15\n",
      "313/313 - 3s - loss: 0.2487 - accuracy: 0.9029 - val_loss: 0.2894 - val_accuracy: 0.8802\n",
      "Epoch 3/15\n",
      "313/313 - 3s - loss: 0.1617 - accuracy: 0.9451 - val_loss: 0.2901 - val_accuracy: 0.8794\n",
      "Epoch 4/15\n",
      "313/313 - 3s - loss: 0.0999 - accuracy: 0.9742 - val_loss: 0.3018 - val_accuracy: 0.8778\n",
      "Epoch 5/15\n",
      "313/313 - 3s - loss: 0.0570 - accuracy: 0.9911 - val_loss: 0.3164 - val_accuracy: 0.8780\n",
      "Epoch 6/15\n",
      "313/313 - 3s - loss: 0.0331 - accuracy: 0.9972 - val_loss: 0.3414 - val_accuracy: 0.8758\n",
      "Epoch 7/15\n",
      "313/313 - 3s - loss: 0.0199 - accuracy: 0.9991 - val_loss: 0.3572 - val_accuracy: 0.8758\n",
      "Epoch 8/15\n",
      "313/313 - 3s - loss: 0.0126 - accuracy: 0.9997 - val_loss: 0.3710 - val_accuracy: 0.8748\n",
      "Epoch 9/15\n",
      "313/313 - 3s - loss: 0.0086 - accuracy: 0.9999 - val_loss: 0.3875 - val_accuracy: 0.8764\n",
      "Epoch 10/15\n",
      "313/313 - 3s - loss: 0.0061 - accuracy: 0.9999 - val_loss: 0.4061 - val_accuracy: 0.8736\n",
      "Epoch 11/15\n",
      "313/313 - 3s - loss: 0.0044 - accuracy: 1.0000 - val_loss: 0.4180 - val_accuracy: 0.8756\n",
      "Epoch 12/15\n",
      "313/313 - 3s - loss: 0.0034 - accuracy: 0.9999 - val_loss: 0.4306 - val_accuracy: 0.8758\n",
      "Epoch 13/15\n",
      "313/313 - 3s - loss: 0.0026 - accuracy: 1.0000 - val_loss: 0.4431 - val_accuracy: 0.8738\n",
      "Epoch 14/15\n",
      "313/313 - 3s - loss: 0.0020 - accuracy: 1.0000 - val_loss: 0.4564 - val_accuracy: 0.8730\n",
      "Epoch 15/15\n",
      "313/313 - 3s - loss: 0.0016 - accuracy: 1.0000 - val_loss: 0.4671 - val_accuracy: 0.8732\n"
     ]
    },
    {
     "data": {
      "image/png": "[encoded data removed]",
      "text/plain": [
       "<Figure size 432x288 with 1 Axes>"
      ]
     },
     "metadata": {
      "needs_background": "light"
     },
     "output_type": "display_data"
    },
    {
     "data": {
      "image/png": "[encoded data removed]",
      "text/plain": [
       "<Figure size 432x288 with 1 Axes>"
      ]
     },
     "metadata": {
      "needs_background": "light"
     },
     "output_type": "display_data"
    },
    {
     "name": "stdout",
     "output_type": "stream",
     "text": [
      "625/625 [==============================] - 1s 1ms/step - loss: 0.1656 - accuracy: 0.9498\n",
      "Accuracy on train:  0.9497500061988831 Loss on train:  0.16555359959602356\n",
      "157/157 [==============================] - 0s 940us/step - loss: 0.2894 - accuracy: 0.8802\n",
      "Accuracy on val:  0.8802000284194946 Loss on val:  0.2893925905227661\n"
     ]
    }
   ],
   "source": [
    "if __name__ == \"__main__\": \n",
    "    #load the training dataset and create labels\n",
    "    y_train = [0 if i < 12500 else 1 for i in range(25000)]\n",
    "    y_train = np.asarray(y_train)\n",
    "    # Splitting the training dataset into train and validation data to analyse the performance of the model\n",
    "    x_train, x_val, y_train, y_val = train_test_split(X_train,y_train, test_size=0.2,random_state=42)\n",
    "    #Fixing the vocabulary and maximum length for the review\n",
    "    vocabulary = 5000\n",
    "    max_length = 500\n",
    "    tf.keras.backend.clear_session()\n",
    "    #defining the model\n",
    "    imdb=models.Sequential()\n",
    "    # adding the embedding layer which takes the input length and vocabulary size \n",
    "    imdb.add(Embedding(vocabulary,64,input_length=max_length))\n",
    "    imdb.add(Dropout(0.2))\n",
    "    imdb.add(Flatten())\n",
    "    imdb.add(Dense(1, activation='sigmoid'))\n",
    "    #compiling the model using adam optimizer and binary_crossentropy\n",
    "    op = tf.keras.optimizers.Adam()\n",
    "    imdb.compile(optimizer=op,loss='binary_crossentropy',metrics=['accuracy'])\n",
    "    imdb.summary()\n",
    "    #store the trained model\n",
    "    file_name=\"/Users/chitraaramachandran/Downloads/20820331_NLP_model.h5\"\n",
    "    checkpoint = k.callbacks.ModelCheckpoint(file_name ,\n",
    "                                 monitor = 'val_loss',\n",
    "                                 verbose = 0,\n",
    "                                 save_best_only = True,\n",
    "                                 mode = 'min')\n",
    "    history = imdb.fit(x_train, y_train, validation_data=(x_val, y_val), epochs=15, batch_size=64, verbose=2, callbacks = [checkpoint])\n",
    "    #loading the trained weights\n",
    "    imdb.load_weights(file_name) \n",
    "    # plotting the training and validation accuracy\n",
    "    plt.plot(history.history['accuracy'])\n",
    "    plt.plot(history.history['val_accuracy'])\n",
    "    plt.ylabel('accuracy')\n",
    "    plt.xlabel('epoch')\n",
    "    plt.legend(['train','validation'], loc='upper left')\n",
    "    plt.show()\n",
    "    # plotting the training and validation loss\n",
    "    plt.plot(history.history['loss'])\n",
    "    plt.plot(history.history['val_loss'])\n",
    "    plt.ylabel('loss')\n",
    "    plt.xlabel('epoch')\n",
    "    plt.legend(['train','validation'], loc='upper left')\n",
    "    plt.show()\n",
    "    #printing the final obtained results\n",
    "    loss,accuracy=imdb.evaluate(x_train,y_train)\n",
    "    print(\"Accuracy on train: \",accuracy,\"Loss on train: \",loss)\n",
    "    loss,accuracy=imdb.evaluate(x_val,y_val)\n",
    "    print(\"Accuracy on val: \",accuracy,\"Loss on val: \",loss)"
   ]
  },
  {
   "cell_type": "code",
   "execution_count": 75,
   "metadata": {},
   "outputs": [
    {
     "name": "stdout",
     "output_type": "stream",
     "text": [
      "782/782 [==============================] - 1s 914us/step - loss: 0.1903 - accuracy: 0.9358\n",
      "Accuracy on test data :  0.9358400106430054\n"
     ]
    }
   ],
   "source": [
    "#prediction on test data\n",
    "vocabulary = 5000\n",
    "max_length = 500\n",
    "imdb = models.Sequential()\n",
    "imdb.add(layers.Embedding(vocabulary, 64, input_length = max_length))\n",
    "imdb.add(layers.Dropout(0.4))\n",
    "imdb.add(layers.Flatten())\n",
    "imdb.add(layers.Dense(1, activation='sigmoid'))\n",
    "op = tf.keras.optimizers.Adam()\n",
    "imdb.compile(optimizer=op,loss='binary_crossentropy',metrics=['accuracy'])\n",
    "if __name__ == \"__main__\": \n",
    "    #creating the test labels\n",
    "    y_test=[0 if i < 12500 else 1 for i in range(25000)]\n",
    "    y_test=np.asarray(y_test)\n",
    "    #loading the trained weights\n",
    "    imdb.load_weights(\"/Users/chitraaramachandran/Downloads/20820331_NLP_model.h5\")\n",
    "    loss,accuracy=imdb.evaluate(X_test,y_test)\n",
    "    #printing the final accuracy obtained on test data\n",
    "    print(\"Accuracy on test data : \",accuracy)"
   ]
  },
  {
   "cell_type": "markdown",
   "metadata": {},
   "source": [
    "#### REPORT\n",
    "From the obtained result we can say that the optimal number of epochs will be 10 after which the training accuracy has reached 100 and there are no more trainable paramters and the validation accuracy also saturates.so is the loss function.The accuracy obtained on test accuracy is 93.5.This reported value might change because of the randomization."
   ]
  }
 ],
 "metadata": {
  "kernelspec": {
   "display_name": "Python [conda env:assignment3]",
   "language": "python",
   "name": "conda-env-assignment3-py"
  },
  "language_info": {
   "codemirror_mode": {
    "name": "ipython",
    "version": 3
   },
   "file_extension": ".py",
   "mimetype": "text/x-python",
   "name": "python",
   "nbconvert_exporter": "python",
   "pygments_lexer": "ipython3",
   "version": "3.8.3"
  }
 },
 "nbformat": 4,
 "nbformat_minor": 4
}
