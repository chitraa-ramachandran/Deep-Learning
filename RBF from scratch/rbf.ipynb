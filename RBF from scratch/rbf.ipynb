{
 "cells": [
  {
   "cell_type": "code",
   "execution_count": 189,
   "metadata": {},
   "outputs": [],
   "source": [
    "#importing the necessary libraries\n",
    "import numpy as np\n",
    "import pandas as pd\n",
    "from sklearn.cluster import KMeans\n",
    "import random\n",
    "import math\n",
    "from matplotlib import pyplot\n",
    "import matplotlib.pyplot as plt"
   ]
  },
  {
   "cell_type": "code",
   "execution_count": 190,
   "metadata": {},
   "outputs": [],
   "source": [
    "#randomnly generating 441 points using the given mapping function along with labels\n",
    "data = pd.DataFrame([])\n",
    "# count=0\n",
    "label=0\n",
    "for i in range(21):\n",
    "    x_i=-2+(0.2*i)\n",
    "    for j in range(21):\n",
    "        \n",
    "        x_j=-2+(0.2*j)\n",
    "        f_x=(x_i*x_i)+(x_j*x_j)\n",
    "        if(f_x<=1):\n",
    "            label=+1\n",
    "        elif(f_x>1):\n",
    "            label=-1\n",
    "        data = data.append(pd.DataFrame({'i': x_i, 'j': x_j,'Label':label}, index=[0]), ignore_index=True)\n",
    "# print(data)\n",
    "data_model=data.copy()\n",
    "data_model=data_model.to_numpy()\n",
    "#Randomizing the generated data to train the model better\n",
    "randomized_val = np.arange(len(data_model))\n",
    "np.random.shuffle(randomized_val)\n",
    "data_model=data_model[randomized_val]"
   ]
  },
  {
   "cell_type": "code",
   "execution_count": 191,
   "metadata": {},
   "outputs": [],
   "source": [
    "#Splitting the data into test and train in the ration of 7:3\n",
    "train_size = int(0.7 * len(data))\n",
    "# Split your dataset \n",
    "train_set = data_model[:train_size]\n",
    "test_set = data_model[train_size:]\n",
    "x_train=train_set[0:,:-1]\n",
    "x_test=test_set[0:,:-1]\n",
    "y_train=train_set[0:,2:]\n",
    "y_test=test_set[0:,2:]"
   ]
  },
  {
   "cell_type": "code",
   "execution_count": 192,
   "metadata": {},
   "outputs": [],
   "source": [
    "#creating the model for rbf neural network\n",
    "class rbf_nn:\n",
    "    def __init__(self, hidden_nodes,no_of_centers,sigma=0.04,kMeans=False):\n",
    "        self.hidden_nodes = hidden_nodes\n",
    "        self.sigma = sigma\n",
    "        self.no_of_centers=no_of_centers\n",
    "        self.centers = None\n",
    "        self.weights = None\n",
    "        self.kMeans=kMeans\n",
    "    #gaussian kernel function\n",
    "    def gaussiankernel(self, center, point):\n",
    "        return np.exp(-1 / (2 * self.sigma**2)*np.linalg.norm(point-center)**2)\n",
    "    #sigmoid activation function\n",
    "    def signum(self,x):\n",
    "         return abs(x)/x\n",
    "    #computing the gaussian kernel matrix G for transformation \n",
    "    def compute_g(self, X):\n",
    "        G = np.zeros((len(X), self.hidden_nodes))\n",
    "        for i, j in enumerate(X):\n",
    "            for p, q in enumerate(self.centers):\n",
    "                G[i, p] = self.gaussiankernel(q,j)\n",
    "        return G\n",
    "    #selecting random centers for the cluster\n",
    "    def random_center(self, X):\n",
    "        random_args = np.random.choice(len(X),self.no_of_centers)\n",
    "        centers = X[random_args]\n",
    "        return centers\n",
    "    #fitting the model for a given set of data and centers\n",
    "    def fit_model(self, X, Y):\n",
    "        if(self.kMeans==False):\n",
    "            self.centers = self.random_center(X)\n",
    "        else:\n",
    "            self.centers=KMeans(n_clusters=150, random_state=0).fit(X)\n",
    "            self.centers=self.centers.cluster_centers_\n",
    "        #print(\"data\",len(X))\n",
    "        #print(\"center\",len(self.centers))\n",
    "        G = self.compute_g(X)\n",
    "        self.weights = np.dot(np.linalg.pinv(G),Y)\n",
    "    #predicting the labels for the test data set\n",
    "    def predict(self, X):\n",
    "        G = self.compute_g(X)\n",
    "        predictions = np.dot(G, self.weights)\n",
    "        #print(predictions)\n",
    "        predictions=self.signum(predictions)\n",
    "        return predictions\n",
    "    #calculating the accuracy between obtained value and target value\n",
    "    def accuracy(self, y_obtained, y_original):\n",
    "        sum = 0\n",
    "        for i in range(len(y_obtained)):\n",
    "            if (y_obtained[i] == y_original[i]):\n",
    "                sum += 1\n",
    "        accuracy = sum/len(y_obtained)\n",
    "        #print(accuracy)\n",
    "        return accuracy\n",
    "    #calculating the mean square error to measure performance for different spread functions\n",
    "    def MSE(self,y_obtained,y_original):\n",
    "        mse=np.square(np.subtract(y_original,y_obtained)).mean() \n",
    "        #print(mse)\n",
    "        return mse"
   ]
  },
  {
   "cell_type": "code",
   "execution_count": 193,
   "metadata": {},
   "outputs": [],
   "source": [
    "#deciding the best sigma value for the rbf considering all data points as centers\n",
    "sigma_vals = [0.1,0.35,0.5,0.6,0.7,0.8,0.9,1,3,5,7.5,10]\n",
    "mse_plt=[]\n",
    "accuracy_plt=[]\n",
    "analysis = pd.DataFrame([])\n",
    "#for each value of sigma the model is run considering all the data points as center to select optimal sigma\n",
    "for i in sigma_vals:\n",
    "    model=rbf_nn(len(x_train),len(x_train),i)\n",
    "    model.fit_model(x_train,y_train)\n",
    "    y_obtained=model.predict(x_test)\n",
    "    accuracy=model.accuracy(y_obtained,y_test)\n",
    "    accuracy_plt.append(accuracy)\n",
    "    mse_obtained=model.MSE(y_obtained,y_test)\n",
    "    mse_obtained=round(mse_obtained,2)\n",
    "    analysis = analysis.append(pd.DataFrame({'sigma': i, 'accuracy': accuracy,'mse':mse_obtained}, index=[0]), ignore_index=True)\n",
    "    mse_plt.append(mse_obtained)"
   ]
  },
  {
   "cell_type": "code",
   "execution_count": 194,
   "metadata": {},
   "outputs": [
    {
     "data": {
      "text/html": [
       "<div>\n",
       "<style scoped>\n",
       "    .dataframe tbody tr th:only-of-type {\n",
       "        vertical-align: middle;\n",
       "    }\n",
       "\n",
       "    .dataframe tbody tr th {\n",
       "        vertical-align: top;\n",
       "    }\n",
       "\n",
       "    .dataframe thead th {\n",
       "        text-align: right;\n",
       "    }\n",
       "</style>\n",
       "<table border=\"1\" class=\"dataframe\">\n",
       "  <thead>\n",
       "    <tr style=\"text-align: right;\">\n",
       "      <th></th>\n",
       "      <th>sigma</th>\n",
       "      <th>accuracy</th>\n",
       "      <th>mse</th>\n",
       "    </tr>\n",
       "  </thead>\n",
       "  <tbody>\n",
       "    <tr>\n",
       "      <th>0</th>\n",
       "      <td>0.10</td>\n",
       "      <td>0.954887</td>\n",
       "      <td>0.18</td>\n",
       "    </tr>\n",
       "    <tr>\n",
       "      <th>1</th>\n",
       "      <td>0.35</td>\n",
       "      <td>0.932331</td>\n",
       "      <td>0.27</td>\n",
       "    </tr>\n",
       "    <tr>\n",
       "      <th>2</th>\n",
       "      <td>0.50</td>\n",
       "      <td>0.947368</td>\n",
       "      <td>0.21</td>\n",
       "    </tr>\n",
       "    <tr>\n",
       "      <th>3</th>\n",
       "      <td>0.60</td>\n",
       "      <td>0.932331</td>\n",
       "      <td>0.27</td>\n",
       "    </tr>\n",
       "    <tr>\n",
       "      <th>4</th>\n",
       "      <td>0.70</td>\n",
       "      <td>0.947368</td>\n",
       "      <td>0.21</td>\n",
       "    </tr>\n",
       "    <tr>\n",
       "      <th>5</th>\n",
       "      <td>0.80</td>\n",
       "      <td>0.939850</td>\n",
       "      <td>0.24</td>\n",
       "    </tr>\n",
       "    <tr>\n",
       "      <th>6</th>\n",
       "      <td>0.90</td>\n",
       "      <td>0.932331</td>\n",
       "      <td>0.27</td>\n",
       "    </tr>\n",
       "    <tr>\n",
       "      <th>7</th>\n",
       "      <td>1.00</td>\n",
       "      <td>0.894737</td>\n",
       "      <td>0.42</td>\n",
       "    </tr>\n",
       "    <tr>\n",
       "      <th>8</th>\n",
       "      <td>3.00</td>\n",
       "      <td>0.992481</td>\n",
       "      <td>0.03</td>\n",
       "    </tr>\n",
       "    <tr>\n",
       "      <th>9</th>\n",
       "      <td>5.00</td>\n",
       "      <td>0.984962</td>\n",
       "      <td>0.06</td>\n",
       "    </tr>\n",
       "    <tr>\n",
       "      <th>10</th>\n",
       "      <td>7.50</td>\n",
       "      <td>0.984962</td>\n",
       "      <td>0.06</td>\n",
       "    </tr>\n",
       "    <tr>\n",
       "      <th>11</th>\n",
       "      <td>10.00</td>\n",
       "      <td>0.984962</td>\n",
       "      <td>0.06</td>\n",
       "    </tr>\n",
       "  </tbody>\n",
       "</table>\n",
       "</div>"
      ],
      "text/plain": [
       "    sigma  accuracy   mse\n",
       "0    0.10  0.954887  0.18\n",
       "1    0.35  0.932331  0.27\n",
       "2    0.50  0.947368  0.21\n",
       "3    0.60  0.932331  0.27\n",
       "4    0.70  0.947368  0.21\n",
       "5    0.80  0.939850  0.24\n",
       "6    0.90  0.932331  0.27\n",
       "7    1.00  0.894737  0.42\n",
       "8    3.00  0.992481  0.03\n",
       "9    5.00  0.984962  0.06\n",
       "10   7.50  0.984962  0.06\n",
       "11  10.00  0.984962  0.06"
      ]
     },
     "execution_count": 194,
     "metadata": {},
     "output_type": "execute_result"
    }
   ],
   "source": [
    "analysis"
   ]
  },
  {
   "cell_type": "code",
   "execution_count": 195,
   "metadata": {},
   "outputs": [
    {
     "data": {
      "image/png": "[encoded data removed]",
      "text/plain": [
       "<Figure size 432x288 with 1 Axes>"
      ]
     },
     "metadata": {
      "needs_background": "light"
     },
     "output_type": "display_data"
    }
   ],
   "source": [
    "#plotting the spread value against mse\n",
    "plt.plot(sigma_vals,mse_plt)\n",
    "plt.xlabel(\"Spread\")\n",
    "plt.ylabel(\"Mean Squared Error\")\n",
    "plt.show()"
   ]
  },
  {
   "cell_type": "code",
   "execution_count": 196,
   "metadata": {},
   "outputs": [
    {
     "data": {
      "image/png": "[encoded data removed]",
      "text/plain": [
       "<Figure size 432x288 with 1 Axes>"
      ]
     },
     "metadata": {
      "needs_background": "light"
     },
     "output_type": "display_data"
    }
   ],
   "source": [
    "#plotting the spread value against accuracy\n",
    "plt.plot(sigma_vals,accuracy_plt)\n",
    "plt.xlabel(\"Spread\")\n",
    "plt.ylabel(\"accuracy\")\n",
    "plt.show()"
   ]
  },
  {
   "cell_type": "markdown",
   "metadata": {},
   "source": [
    "### ANALYSIS:\n",
    "\n",
    "I have considered the following sigma values: 0.1,0.35,0.5,0.6,0.7,0.8,0.9,1,3,5,7.5,10\n",
    "The data is constructed and randomized.The randomization is kept the same by giving a seed value.Now initially we consider all the data points as the centers.\n",
    "\n",
    "In this scenario,I am obtaining the accuracy and the mean square error for all values of sigma and we are able to observe that for the value of sigma=3 am obtaining the maximum accuracy and the minimal mse so am considering sigma =3 to the optimal value for the model and proceeding to implement the same model of rbf with 150 centers chosen at random and 150 centers chosen using the kmeans algorithm implemented in sklearn library.\n",
    "\n",
    "The maximum accuracy obtained with all data points as centers is 0.992481 and the mse is 0.03"
   ]
  },
  {
   "cell_type": "code",
   "execution_count": 197,
   "metadata": {},
   "outputs": [
    {
     "data": {
      "text/html": [
       "<div>\n",
       "<style scoped>\n",
       "    .dataframe tbody tr th:only-of-type {\n",
       "        vertical-align: middle;\n",
       "    }\n",
       "\n",
       "    .dataframe tbody tr th {\n",
       "        vertical-align: top;\n",
       "    }\n",
       "\n",
       "    .dataframe thead th {\n",
       "        text-align: right;\n",
       "    }\n",
       "</style>\n",
       "<table border=\"1\" class=\"dataframe\">\n",
       "  <thead>\n",
       "    <tr style=\"text-align: right;\">\n",
       "      <th></th>\n",
       "      <th>sigma</th>\n",
       "      <th>accuracy</th>\n",
       "      <th>mse</th>\n",
       "    </tr>\n",
       "  </thead>\n",
       "  <tbody>\n",
       "    <tr>\n",
       "      <th>0</th>\n",
       "      <td>0.10</td>\n",
       "      <td>0.992481</td>\n",
       "      <td>0.03</td>\n",
       "    </tr>\n",
       "    <tr>\n",
       "      <th>1</th>\n",
       "      <td>0.35</td>\n",
       "      <td>0.992481</td>\n",
       "      <td>0.03</td>\n",
       "    </tr>\n",
       "    <tr>\n",
       "      <th>2</th>\n",
       "      <td>0.50</td>\n",
       "      <td>0.992481</td>\n",
       "      <td>0.03</td>\n",
       "    </tr>\n",
       "    <tr>\n",
       "      <th>3</th>\n",
       "      <td>0.60</td>\n",
       "      <td>0.992481</td>\n",
       "      <td>0.03</td>\n",
       "    </tr>\n",
       "    <tr>\n",
       "      <th>4</th>\n",
       "      <td>0.70</td>\n",
       "      <td>0.984962</td>\n",
       "      <td>0.06</td>\n",
       "    </tr>\n",
       "    <tr>\n",
       "      <th>5</th>\n",
       "      <td>0.80</td>\n",
       "      <td>0.992481</td>\n",
       "      <td>0.03</td>\n",
       "    </tr>\n",
       "    <tr>\n",
       "      <th>6</th>\n",
       "      <td>0.90</td>\n",
       "      <td>0.992481</td>\n",
       "      <td>0.03</td>\n",
       "    </tr>\n",
       "    <tr>\n",
       "      <th>7</th>\n",
       "      <td>1.00</td>\n",
       "      <td>0.984962</td>\n",
       "      <td>0.06</td>\n",
       "    </tr>\n",
       "    <tr>\n",
       "      <th>8</th>\n",
       "      <td>3.00</td>\n",
       "      <td>0.992481</td>\n",
       "      <td>0.03</td>\n",
       "    </tr>\n",
       "    <tr>\n",
       "      <th>9</th>\n",
       "      <td>5.00</td>\n",
       "      <td>0.992481</td>\n",
       "      <td>0.03</td>\n",
       "    </tr>\n",
       "    <tr>\n",
       "      <th>10</th>\n",
       "      <td>7.50</td>\n",
       "      <td>0.992481</td>\n",
       "      <td>0.03</td>\n",
       "    </tr>\n",
       "    <tr>\n",
       "      <th>11</th>\n",
       "      <td>10.00</td>\n",
       "      <td>0.992481</td>\n",
       "      <td>0.03</td>\n",
       "    </tr>\n",
       "  </tbody>\n",
       "</table>\n",
       "</div>"
      ],
      "text/plain": [
       "    sigma  accuracy   mse\n",
       "0    0.10  0.992481  0.03\n",
       "1    0.35  0.992481  0.03\n",
       "2    0.50  0.992481  0.03\n",
       "3    0.60  0.992481  0.03\n",
       "4    0.70  0.984962  0.06\n",
       "5    0.80  0.992481  0.03\n",
       "6    0.90  0.992481  0.03\n",
       "7    1.00  0.984962  0.06\n",
       "8    3.00  0.992481  0.03\n",
       "9    5.00  0.992481  0.03\n",
       "10   7.50  0.992481  0.03\n",
       "11  10.00  0.992481  0.03"
      ]
     },
     "execution_count": 197,
     "metadata": {},
     "output_type": "execute_result"
    }
   ],
   "source": [
    "#randomnly choosing 150 centers and computing the accuracy for the best sigma value\n",
    "sigma_vals = [0.1,0.35,0.5,0.6,0.7,0.8,0.9,1,3,5,7.5,10]\n",
    "mse_plt=[]\n",
    "accuracy_plt=[]\n",
    "analysis = pd.DataFrame([])\n",
    "for i in sigma_vals:\n",
    "    model1=rbf_nn(len(x_train),150,2)\n",
    "    model1.fit_model(x_train,y_train)\n",
    "    y_obtained=model1.predict(x_test)\n",
    "    accuracy=model1.accuracy(y_obtained,y_test)\n",
    "    mse_obtained=model.MSE(y_obtained,y_test)\n",
    "    mse_obtained=round(mse_obtained,2)\n",
    "    analysis = analysis.append(pd.DataFrame({'sigma': i, 'accuracy': accuracy,'mse':mse_obtained}, index=[0]), ignore_index=True)\n",
    "    mse_plt.append(mse_obtained)\n",
    "    accuracy_plt.append(accuracy)\n",
    "analysis"
   ]
  },
  {
   "cell_type": "code",
   "execution_count": 198,
   "metadata": {},
   "outputs": [
    {
     "data": {
      "image/png": "[encoded data removed]",
      "text/plain": [
       "<Figure size 432x288 with 1 Axes>"
      ]
     },
     "metadata": {
      "needs_background": "light"
     },
     "output_type": "display_data"
    }
   ],
   "source": [
    "#plotting the spread value against mse\n",
    "plt.plot(sigma_vals,mse_plt)\n",
    "plt.xlabel(\"Spread\")\n",
    "plt.ylabel(\"Mean Squared Error\")\n",
    "plt.show()"
   ]
  },
  {
   "cell_type": "code",
   "execution_count": 199,
   "metadata": {},
   "outputs": [
    {
     "data": {
      "image/png": "[encoded data removed]",
      "text/plain": [
       "<Figure size 432x288 with 1 Axes>"
      ]
     },
     "metadata": {
      "needs_background": "light"
     },
     "output_type": "display_data"
    }
   ],
   "source": [
    "#plotting the spread value against accuracy\n",
    "plt.plot(sigma_vals,accuracy_plt)\n",
    "plt.xlabel(\"Spread\")\n",
    "plt.ylabel(\"accuracy\")\n",
    "plt.show()"
   ]
  },
  {
   "cell_type": "code",
   "execution_count": 203,
   "metadata": {},
   "outputs": [
    {
     "data": {
      "text/html": [
       "<div>\n",
       "<style scoped>\n",
       "    .dataframe tbody tr th:only-of-type {\n",
       "        vertical-align: middle;\n",
       "    }\n",
       "\n",
       "    .dataframe tbody tr th {\n",
       "        vertical-align: top;\n",
       "    }\n",
       "\n",
       "    .dataframe thead th {\n",
       "        text-align: right;\n",
       "    }\n",
       "</style>\n",
       "<table border=\"1\" class=\"dataframe\">\n",
       "  <thead>\n",
       "    <tr style=\"text-align: right;\">\n",
       "      <th></th>\n",
       "      <th>sigma</th>\n",
       "      <th>accuracy</th>\n",
       "      <th>mse</th>\n",
       "    </tr>\n",
       "  </thead>\n",
       "  <tbody>\n",
       "    <tr>\n",
       "      <th>0</th>\n",
       "      <td>0.10</td>\n",
       "      <td>0.932331</td>\n",
       "      <td>0.27</td>\n",
       "    </tr>\n",
       "    <tr>\n",
       "      <th>1</th>\n",
       "      <td>0.35</td>\n",
       "      <td>0.947368</td>\n",
       "      <td>0.21</td>\n",
       "    </tr>\n",
       "    <tr>\n",
       "      <th>2</th>\n",
       "      <td>0.50</td>\n",
       "      <td>0.954887</td>\n",
       "      <td>0.18</td>\n",
       "    </tr>\n",
       "    <tr>\n",
       "      <th>3</th>\n",
       "      <td>0.60</td>\n",
       "      <td>0.954887</td>\n",
       "      <td>0.18</td>\n",
       "    </tr>\n",
       "    <tr>\n",
       "      <th>4</th>\n",
       "      <td>0.70</td>\n",
       "      <td>0.954887</td>\n",
       "      <td>0.18</td>\n",
       "    </tr>\n",
       "    <tr>\n",
       "      <th>5</th>\n",
       "      <td>0.80</td>\n",
       "      <td>0.932331</td>\n",
       "      <td>0.27</td>\n",
       "    </tr>\n",
       "    <tr>\n",
       "      <th>6</th>\n",
       "      <td>0.90</td>\n",
       "      <td>0.924812</td>\n",
       "      <td>0.30</td>\n",
       "    </tr>\n",
       "    <tr>\n",
       "      <th>7</th>\n",
       "      <td>1.00</td>\n",
       "      <td>0.917293</td>\n",
       "      <td>0.33</td>\n",
       "    </tr>\n",
       "    <tr>\n",
       "      <th>8</th>\n",
       "      <td>3.00</td>\n",
       "      <td>0.984962</td>\n",
       "      <td>0.06</td>\n",
       "    </tr>\n",
       "    <tr>\n",
       "      <th>9</th>\n",
       "      <td>5.00</td>\n",
       "      <td>0.984962</td>\n",
       "      <td>0.06</td>\n",
       "    </tr>\n",
       "    <tr>\n",
       "      <th>10</th>\n",
       "      <td>7.50</td>\n",
       "      <td>0.984962</td>\n",
       "      <td>0.06</td>\n",
       "    </tr>\n",
       "    <tr>\n",
       "      <th>11</th>\n",
       "      <td>10.00</td>\n",
       "      <td>0.984962</td>\n",
       "      <td>0.06</td>\n",
       "    </tr>\n",
       "  </tbody>\n",
       "</table>\n",
       "</div>"
      ],
      "text/plain": [
       "    sigma  accuracy   mse\n",
       "0    0.10  0.932331  0.27\n",
       "1    0.35  0.947368  0.21\n",
       "2    0.50  0.954887  0.18\n",
       "3    0.60  0.954887  0.18\n",
       "4    0.70  0.954887  0.18\n",
       "5    0.80  0.932331  0.27\n",
       "6    0.90  0.924812  0.30\n",
       "7    1.00  0.917293  0.33\n",
       "8    3.00  0.984962  0.06\n",
       "9    5.00  0.984962  0.06\n",
       "10   7.50  0.984962  0.06\n",
       "11  10.00  0.984962  0.06"
      ]
     },
     "execution_count": 203,
     "metadata": {},
     "output_type": "execute_result"
    }
   ],
   "source": [
    "#using kmeans and selecting 150 centers for the best sigma value\n",
    "sigma_vals = [0.1,0.35,0.5,0.6,0.7,0.8,0.9,1,3,5,7.5,10]\n",
    "mse_plt=[]\n",
    "accuracy_plt=[]\n",
    "analysis = pd.DataFrame([])\n",
    "for i in sigma_vals:\n",
    "    model2=rbf_nn(len(x_train),150,i,True)\n",
    "    model2.fit_model(x_train,y_train)\n",
    "    y_obtained=model2.predict(x_test)\n",
    "    accuracy=model2.accuracy(y_obtained,y_test)\n",
    "    mse_obtained=model.MSE(y_obtained,y_test)\n",
    "    mse_obtained=round(mse_obtained,2)\n",
    "    analysis = analysis.append(pd.DataFrame({'sigma': i, 'accuracy': accuracy,'mse':mse_obtained}, index=[0]), ignore_index=True)\n",
    "    mse_plt.append(mse_obtained)\n",
    "    accuracy_plt.append(accuracy)\n",
    "analysis"
   ]
  },
  {
   "cell_type": "code",
   "execution_count": 204,
   "metadata": {},
   "outputs": [
    {
     "data": {
      "image/png": "[encoded data removed]",
      "text/plain": [
       "<Figure size 432x288 with 1 Axes>"
      ]
     },
     "metadata": {
      "needs_background": "light"
     },
     "output_type": "display_data"
    }
   ],
   "source": [
    "#plotting the spread value against mse\n",
    "plt.plot(sigma_vals,mse_plt)\n",
    "plt.xlabel(\"Spread\")\n",
    "plt.ylabel(\"Mean Squared Error\")\n",
    "plt.show()"
   ]
  },
  {
   "cell_type": "code",
   "execution_count": 205,
   "metadata": {},
   "outputs": [
    {
     "data": {
      "image/png": "[encoded data removed]",
      "text/plain": [
       "<Figure size 432x288 with 1 Axes>"
      ]
     },
     "metadata": {
      "needs_background": "light"
     },
     "output_type": "display_data"
    }
   ],
   "source": [
    "#plotting the spread value against accuracy\n",
    "plt.plot(sigma_vals,accuracy_plt)\n",
    "plt.xlabel(\"Spread\")\n",
    "plt.ylabel(\"accuracy\")\n",
    "plt.show()"
   ]
  },
  {
   "cell_type": "markdown",
   "metadata": {},
   "source": [
    "### ANALYSIS:\n",
    "\n",
    "Even in the above two models that we run for 150 centers chosen randomnly and using kmeans cluster technique we get the maximum accuracy and the minimal MSE at the sigma value = 3, which indicates that the spread parameter is independent on the number of centres to be choosen. \n",
    "\n",
    "From the analysis table obtained,The maximum accuracy obtained on the test data set by choosing 150 datapoints as centers is 0.992481 and the MSE is 0.03;where as using the K means method the maximum accuracy obtained is 0.984962 \t and MSE is 0.06.\n",
    "\n",
    "The general observation is that as as the number of centers reduces the accuracy reduces and the computational resources used also reduces.So,an another challenge is to choose an optimal number of centers for the RBF\n"
   ]
  }
 ],
 "metadata": {
  "kernelspec": {
   "display_name": "ece657",
   "language": "python",
   "name": "ece657"
  },
  "language_info": {
   "codemirror_mode": {
    "name": "ipython",
    "version": 3
   },
   "file_extension": ".py",
   "mimetype": "text/x-python",
   "name": "python",
   "nbconvert_exporter": "python",
   "pygments_lexer": "ipython3",
   "version": "3.7.7"
  }
 },
 "nbformat": 4,
 "nbformat_minor": 4
}
